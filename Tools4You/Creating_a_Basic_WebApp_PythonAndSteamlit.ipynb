{
 "cells": [
  {
   "cell_type": "code",
   "execution_count": null,
   "metadata": {},
   "outputs": [],
   "source": [
    "# Step 01\n",
    "# Installing some required packages\n",
    "# Streamlit for creating your WebApp using Python in an easy way\n",
    "!pip install -q streamlit\n",
    "!npm install localtunnel"
   ]
  },
  {
   "cell_type": "code",
   "execution_count": null,
   "metadata": {},
   "outputs": [],
   "source": [
    "# This is a simple webapp using Streamlit.\n",
    "# We going to create a simple word counter web. User will input some text and get the count of words in that text.\n",
    "%%writefile app.py # to tell our computer for writing the following code into a app.py file on our local machine disk.\n",
    "\n",
    "# the code will be written in python and start from here\n",
    "import streamlit as st\n",
    "\n",
    "st.title('Word Counter')\n",
    "text = st.text_input('Enter some text:')\n",
    "\n",
    "if text:\n",
    "  words = text.split()\n",
    "  word_count = len(words)\n",
    "  st.text_area(\"Word Count:\", value=word_count, height=50)\n"
   ]
  },
  {
   "cell_type": "markdown",
   "metadata": {},
   "source": [
    "Okay, if you have already completed the previous steps, you should see a file named `app.py` in the current folder.\n",
    "Next, we are going to run it to see our WebApp.\"\n"
   ]
  },
  {
   "cell_type": "code",
   "execution_count": null,
   "metadata": {},
   "outputs": [],
   "source": [
    "# Starting the server for our webapp, it will be running on port 8501 and output can be seen in the logs.txt file\n",
    "# Once the server is running, you can access it using the link at: \"your url is: ...\"\n",
    "!streamlit run app.py &>/content/logs.txt &\n",
    "!npx localtunnel --port 8501 & curl ipv4.icanhazip.com"
   ]
  }
 ],
 "metadata": {
  "language_info": {
   "name": "python"
  }
 },
 "nbformat": 4,
 "nbformat_minor": 2
}
