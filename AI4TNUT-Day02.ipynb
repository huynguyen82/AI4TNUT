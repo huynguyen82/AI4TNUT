{
 "cells": [
  {
   "cell_type": "markdown",
   "metadata": {},
   "source": [
    "# **Chủ đề-01:** Lược sử Bờm và Cuội (Hiểu AI, ứng dụng AI, nguyên lý căn bản của AI)\n",
    "\n",
    "~~Day-01:~~\n",
    "* ~~Bài-1.1: Lược sử AI (Quá nhiều thuật ngữ: Trí tuệ nhân tạo - AI, Học máy – Machine learning, Học sâu – Deep learning)~~\n",
    "* ~~Bài-1.2: Chúng ta sẽ làm gì với AI~~\n",
    "* ~~Bài-1.3: Bờm và Cuội xuống núi (Ứng dụng AI)~~\n",
    "Day0-2: Bờm đi du học đề nâng cấp bản thân\n",
    "\n",
    "* Bài-1.4. AI tạo sinh là gì?  \n",
    "* Bài-1.5. Ứng dụng AI tạo sinh\n",
    "* Bài-1.6. Nghề mới: nghề viết gợi ý cho AI tạo sinh\n",
    "* bài-1.7. AI và Người ai sẽ là Chủ ai là Tớ"
   ]
  },
  {
   "cell_type": "markdown",
   "metadata": {},
   "source": [
    "## 1.4. AI tạo sinh là gì?\n",
    "\n",
    "- Hãy trải nghiệm để có hình dung ban đầu:\n",
    "  - Music + Image + Text + Audio GPT [Tại Đây](https://junzhan2000.github.io/AnyGPT.github.io/)\n",
    "  - OpenAi ChatGPT [Tại Đây](https://chatgpt.com/)"
   ]
  },
  {
   "cell_type": "markdown",
   "metadata": {},
   "source": [
    "### 1.4.1: ChatGPT là gì?\n",
    "\n",
    "**1) ChatGPT là gì?**\n",
    "\n",
    "* [Khái niệm](https://www.edlitera.com/blog/posts/gpt-models-history): Khai sinh ngày 30/11/2022, là mô hình ngôn ngữ phục vụ cho mục đích hội thoại (hỏi đáp). Là cú hích rất lớn để con người nhận ra khả năng của AI có thể bằng hoặc thông minh hơn cả con người\n",
    "\n",
    "[Tham khảo tại OpenAI](https://help.openai.com/en/articles/6783457-what-is-chatgpt)\n",
    "- ChatGPT được tinh chỉnh từ GPT-3.5\n",
    "- Được huấn luyện (được dạy) bời dữ liệu khổng lồ lấy từ mọi nguồn internet\n",
    "- ChatGPT không phải luôn đúng    \n",
    "\n",
    "**2) Vì sao GPT lại ra đời?**\n",
    "\n",
    "<img src=\"https://datasciencedojo.com/wp-content/uploads/Chatbots-and-ChatGPT.jpg.webp\" width=500>\n",
    "\n",
    "**Lý Do:**\n",
    "\n",
    "* Nhân công trực tổng đài hoặc tiếp khách hành để trả lời, tư vấn cần quá nhiều\n",
    "  * Quá khứ: Dùng chatBot= DEV + Chuyên gia + App => Nhưng chỉ làm việc ở domain hẹp\n",
    "  * Hiện tại: Có quá nhiều dữ liệu có thể dùng trên internet, máy tính ngày càng siêu nhanh, các thuật học máy có thể tối ưu được các mô hình để **NHỚ MỌI THỨ** \\\n",
    "\n",
    "- Công nghệ: Các bài toán hội thoại có thể được mô hình bằng các mô hình học máy hoặc thống kê để đi tính giá trị xác suất **P(Hậu quả|Sự kiện đã diễn ra)** => Đây chính là mô hình ngôn ngữ (language model) \\\\\n",
    "\n",
    "**Mục tiêu: Tự động hóa**\n",
    "\n",
    "  **=> Ý tưởng: Lager language model = Deep:Mô hình siêu lớn + Bigdata: Dữ liệu siêu lớn + Model (P(A|B))**\n",
    "\n",
    "  **==> Như Vậy: GPT=SIÊU BỜM= Mô hình siêu lớn + Được dạy bởi dữ liệu siêu lớn**\n",
    "\n",
    "![gpt](https://miro.medium.com/v2/resize:fit:828/format:webp/1*IaDlHOMavNm-8AV0cAbDYg.png)\n",
    "\n",
    "\n",
    "\n"
   ]
  },
  {
   "cell_type": "markdown",
   "metadata": {},
   "source": [
    "### 1.4.2. ChatGPT là sản phẩm đầu tiên?\n",
    "\n",
    "- **ChatGPT=GPT3.5 không phải là phiên bản đầu tiên của OpenAI**\n",
    "  \n",
    "<img src=\"https://miro.medium.com/v2/resize:fit:828/format:webp/1*DshmAr2_1-hEg_3L6lBO4Q.png\" width=800>\n",
    "\n",
    "*(Nguồn ảnh: https://generativeai.pub/a-look-into-the-evolution-of-gpt-models-from-gpt-1-to-gpt-4-38b68c2f275b)*\n",
    "\n",
    "**OPEN-AI:**\n",
    "\n",
    "- [Bài báo về GPT-1-2018 của OpenAI:](https://s3-us-west-2.amazonaws.com/openai-assets/research-covers/language-unsupervised/language_understanding_paper.pdf)\n",
    "\n",
    "**THẾ GIỚI:**\n",
    "\n",
    "**- 1980: Mô hình thống kê:** Theo Wiki Language model hiệu quả và làm việc tốt nhất được biết đến vào 1980 sử dụng mô hình thống kê n-gram do IBM thiết kế [Link](https://en.wikipedia.org/wiki/Language_model#:~:text=Language%20models%20are%20useful%20for,handwriting%20recognition%2C%20grammar%20induction%2C%20and)\n",
    "\n",
    "**- 2001: Neural Network language model:** [Tham khảo tại đây](https://www.linkedin.com/pulse/brief-history-large-language-models-bob/)\n",
    "**- 2013: Neural Network language model + Word embedding** (Recurrent Neural Networks (RNNs) and Long Short-Term Memory (LSTM))\n",
    "\n",
    "**- 2017: Transformer ra đời** [Ashish Vaswani: Paper-2017](https://arxiv.org/pdf/1706.03762)\n",
    "  \n",
    "  <img src=\"https://images.squarespace-cdn.com/content/v1/62ec2bc76a27db7b37a2b32f/2eb92ce2-a3c0-495b-8b1b-3303e0adbcf8/ashish-vaswani.jpg\" width=\"200\">\n",
    "\n",
    "**- 2018: BERT** (BERT: Bidirectional Encoder Representations from Transformers), **GPT-01**\n",
    "\n",
    "**- ....**"
   ]
  },
  {
   "cell_type": "markdown",
   "metadata": {},
   "source": [
    "### 1.4.3. Nguyên lý của các mô hình GPT\n",
    "\n",
    "**Nguyên lý mô hình: **\n",
    "\n",
    "- Dựa vào mô hình ngôn ngữ đi tim xác suất chuỗi P(w_t,w_t-1,w_t-2,...)\n",
    "- Dựa vào kiến trúc mô hình encoder-decoder (Nén và biểu diễn thông tin phức tạp, suy luận từ thông tin đã mã hóa)\n",
    "- Dựa vào Transformer\n",
    "  \n",
    "   <img src=\"https://machinelearningmastery.com/wp-content/uploads/2021/08/attention_research_1-727x1024.png\" width=500>\n",
    "\n",
    "- Mọi thứ biểu diễn thành chuỗi các sự kiện\n",
    "  \n",
    "- Dữ liệu ảnh: \n",
    "  \n",
    "  <img src=\"https://production-media.paperswithcode.com/social-images/UhPqfdxgjZGSAsbC.png\" width=800>\n",
    "  \n",
    "  - Dữ liệu video=Ảnh + Audio\n",
    "  - Dữ liệu âm thanh: wav <img src=\"https://i.sstatic.net/lMj8P.png\">\n",
    "  - Dữ liệu text: A B C ...\n",
    "\n",
    "**Cách thức dạy (training)** \n",
    "- GPT-1:[GPT paper](https://s3-us-west-2.amazonaws.com/openai-assets/research-covers/language-unsupervised/language_understanding_paper.pdf)\n",
    "- GPT_3:[GPT3 paper](https://arxiv.org/pdf/2005.14165)\n",
    "- [AnyGPT](https://junzhan2000.github.io/AnyGPT.github.io/)\n",
    "\n"
   ]
  },
  {
   "cell_type": "markdown",
   "metadata": {},
   "source": [
    "## 1.5. Ứng dụng AI tạo sinh\n",
    "\n",
    "- [Thiết kế thời trang](https://chatdesigner.ai/tutorial/)\n",
    "- [Sáng tạo video](https://www.youtube.com/watch?v=FUcNXG1uxV0)\n",
    "- Code\n",
    "- Text"
   ]
  },
  {
   "cell_type": "markdown",
   "metadata": {},
   "source": [
    "## 1.6. Nghề hướng dẫn Bờm\n",
    "\n",
    "- [Jobs](https://www.indeed.com/q-prompt-engineer-jobs.html?vjk=7ffa61ec5a82c3e6)"
   ]
  },
  {
   "cell_type": "markdown",
   "metadata": {},
   "source": [
    "## 1.7. AI và Người là chủ?\n",
    "- Máy tính cầm tay\n",
    "- Máy tính cá nhân\n",
    "- điện thoại\n",
    "- Internet\n",
    "- Google search\n",
    "- AI\n",
    "- ..."
   ]
  }
 ],
 "metadata": {
  "language_info": {
   "name": "python"
  }
 },
 "nbformat": 4,
 "nbformat_minor": 2
}
