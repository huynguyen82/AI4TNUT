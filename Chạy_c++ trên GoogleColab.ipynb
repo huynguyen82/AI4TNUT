{
  "nbformat": 4,
  "nbformat_minor": 0,
  "metadata": {
    "colab": {
      "provenance": [],
      "authorship_tag": "ABX9TyOuYpC+DVvbrpBFxuk4P6rP",
      "include_colab_link": true
    },
    "kernelspec": {
      "name": "python3",
      "display_name": "Python 3"
    },
    "language_info": {
      "name": "python"
    }
  },
  "cells": [
    {
      "cell_type": "markdown",
      "metadata": {
        "id": "view-in-github",
        "colab_type": "text"
      },
      "source": [
        "<a href=\"https://colab.research.google.com/github/huynguyen82/AI4TNUT/blob/main/Ch%E1%BA%A1y_c%2B%2B%20tr%C3%AAn%20GoogleColab.ipynb\" target=\"_parent\"><img src=\"https://colab.research.google.com/assets/colab-badge.svg\" alt=\"Open In Colab\"/></a>"
      ]
    },
    {
      "cell_type": "markdown",
      "source": [
        "# Lập trình C++ dùng google colab => Chỉ cần 1 thiết bị duyệt được WEB, không cần máy tính, không cần cài đặt phần mềm.\n",
        "- Để chạy được chương trình bạn cần đăng nhập tài khoản google\n",
        "- Chú ý mỗi session chỉ tồn tại trong 8 tiếng, từ máy ảo của google cho bạn dùng miễn phí mỗi lần bật máy là 8 giờ, sau đó google sẽ yêu cầu tắt máy. Vì thế để tiết kiệm bạn chỉ lên bật khi chạy thử code.\n",
        "\n",
        "**Bước 1 viết chương trình**: Chương trình viết theo cú pháp thông thương, chỉ cần chú ý cần LỆNH yêu cầu ghi toàn bộ nội dung code ra 1 file .cpp\n",
        "Cú pháp:\n",
        "-----------------\n",
        "%%writefile <ten_file.cpp>\n",
        "#include <iostream>\n",
        "using namespace std;\n",
        "int main(){\n",
        "  // Chương trình chính của bạn ở đây\n",
        "  return 0;\n",
        "}\n"
      ],
      "metadata": {
        "id": "ZpXR5aMAF-Rp"
      }
    },
    {
      "cell_type": "code",
      "execution_count": 15,
      "metadata": {
        "colab": {
          "base_uri": "https://localhost:8080/"
        },
        "id": "jzxEt_CkEqMm",
        "outputId": "6497789a-a6c1-42eb-8bbb-6d3a264499cf"
      },
      "outputs": [
        {
          "output_type": "stream",
          "name": "stdout",
          "text": [
            "Overwriting test.cpp\n"
          ]
        }
      ],
      "source": [
        "%%writefile test.cpp\n",
        "#include <iostream>\n",
        "using namespace std;\n",
        "int main(){\n",
        "    cout<<\"Chao K59KMT\";\n",
        "    return 0;\n",
        "}"
      ]
    },
    {
      "cell_type": "markdown",
      "source": [
        "**Biên dịch chương trình đã lưu trong file <ten_file.cpp>* thành file mã máy (tức là biên dịch từ ngôn ngữ C++ thành ngôn ngữ mà Máy tính hiểu, thứ ngôn ngữ chỉ được tạo bởi 2 ký tự 0 và 1.**"
      ],
      "metadata": {
        "id": "Qs5HKr-LHhcp"
      }
    },
    {
      "cell_type": "code",
      "source": [
        "!g++ test.cpp -o test"
      ],
      "metadata": {
        "id": "QqaIK_MrFe52"
      },
      "execution_count": 16,
      "outputs": []
    },
    {
      "cell_type": "markdown",
      "source": [
        "** Nếu quá trình trên không báo lỗi, ta chạy lệnh sau để xem file mã máy đã được sinh ra chưa**"
      ],
      "metadata": {
        "id": "51kNAky3HxmU"
      }
    },
    {
      "cell_type": "code",
      "source": [
        "!ls"
      ],
      "metadata": {
        "colab": {
          "base_uri": "https://localhost:8080/"
        },
        "id": "gCjYQIL_Fw7V",
        "outputId": "ce8414d8-8e14-44c9-892c-584efbdf30ab"
      },
      "execution_count": 10,
      "outputs": [
        {
          "output_type": "stream",
          "name": "stdout",
          "text": [
            "sample_data  test  test.cpp\n"
          ]
        }
      ]
    },
    {
      "cell_type": "markdown",
      "source": [
        "** Cuối cùng là chạy thử chương trình trên máy ảo của Google** bạn sẽ thấy kết quả của chương trình ..."
      ],
      "metadata": {
        "id": "Tmfs5-chH-EW"
      }
    },
    {
      "cell_type": "code",
      "source": [
        "!./test"
      ],
      "metadata": {
        "colab": {
          "base_uri": "https://localhost:8080/"
        },
        "id": "e2GVl7EfF6pr",
        "outputId": "8d44ae77-14ed-4fd3-f179-84ec753ee8dd"
      },
      "execution_count": 17,
      "outputs": [
        {
          "output_type": "stream",
          "name": "stdout",
          "text": [
            "Chao K59KMT"
          ]
        }
      ]
    },
    {
      "cell_type": "code",
      "source": [
        "%%writefile lenhcodieukien.cpp\n",
        "#include <iostream>\n",
        "using namespace std;\n",
        "int main(){\n",
        "\tint diem;\n",
        "\t// Yeu cau nguoi dung nhap gia tri diem tu ban phim\n",
        "\tcout<<\"Moi ngai nhap diem c++=\";\n",
        "\tcin>>diem; // cho nguoi dung nhap 1 gia tri tu ban phim\n",
        "\t/// Chay thuat toan\n",
        "\tif(diem>=4)\n",
        "\t\tcout<<\"Do roi\"; // dc chay khi dieu kien dung\n",
        "\telse\n",
        "\t\tcout<<\"truot roi\"; // dc chay khi dieu kien sai\n",
        "\n",
        "\treturn 0;\n",
        "}"
      ],
      "metadata": {
        "colab": {
          "base_uri": "https://localhost:8080/"
        },
        "id": "fWz0WcwekLL5",
        "outputId": "f722d59e-b0d1-406a-9c5d-9081102a4e68"
      },
      "execution_count": 18,
      "outputs": [
        {
          "output_type": "stream",
          "name": "stdout",
          "text": [
            "Writing lenhcodieukien.cpp\n"
          ]
        }
      ]
    },
    {
      "cell_type": "code",
      "source": [
        "!g++ lenhcodieukien.cpp -o lenhcodieukien_01"
      ],
      "metadata": {
        "id": "pG0iQMzskaOB"
      },
      "execution_count": 19,
      "outputs": []
    },
    {
      "cell_type": "code",
      "source": [
        "!./lenhcodieukien_01"
      ],
      "metadata": {
        "colab": {
          "base_uri": "https://localhost:8080/"
        },
        "id": "h5BFqQdWkjQX",
        "outputId": "7d49de8c-63dd-4cd7-899e-53f56050ab5a"
      },
      "execution_count": 20,
      "outputs": [
        {
          "output_type": "stream",
          "name": "stdout",
          "text": [
            "Moi ngai nhap diem c++=3\n",
            "truot roi"
          ]
        }
      ]
    }
  ]
}